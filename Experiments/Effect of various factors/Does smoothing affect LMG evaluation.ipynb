{
 "cells": [
  {
   "cell_type": "code",
   "execution_count": null,
   "id": "d124b637",
   "metadata": {},
   "outputs": [],
   "source": [
    "import numpy as np\n",
    "from nltk.translate.bleu_score import sentence_bleu\n",
    "from nltk.translate.bleu_score import SmoothingFunction"
   ]
  },
  {
   "cell_type": "code",
   "execution_count": null,
   "id": "0b84a847",
   "metadata": {},
   "outputs": [],
   "source": [
    "import csv\n",
    "import json\n",
    "\n",
    "preds=[]\n",
    "refs=[]\n",
    "auth_1 =[]\n",
    "auth_2 = []\n",
    "auth_3 =[]\n",
    "with open('human_annotations.csv') as csvfile:\n",
    "    ader = csv.reader(csvfile)\n",
    "    for row in ader:\n",
    "        refs.append(row[1])\n",
    "        preds.append(row[0])\n",
    "        auth_1.append(row[2])\n",
    "        auth_2.append(row[3])\n",
    "        auth_3.append(row[4])\n",
    "        \n",
    "refs_n = refs[:100]\n",
    "preds_n = preds[:100]\n",
    "\n",
    "auth_1 = auth_1[:100]\n",
    "for i in range(0, len(auth_1)):\n",
    "    auth_1[i] = int(auth_1[i])\n",
    "#print(auth_1)\n",
    "\n",
    "auth_2 = auth_2[:100]\n",
    "for i in range(0, len(auth_2)):\n",
    "    auth_2[i] = int(auth_2[i])\n",
    "#print(auth_2)\n",
    "\n",
    "auth_3 = auth_3[:100]\n",
    "for i in range(0, len(auth_3)):\n",
    "    auth_3[i] = int(auth_3[i])\n",
    "#print(auth_3)"
   ]
  },
  {
   "cell_type": "code",
   "execution_count": null,
   "id": "c43905bf",
   "metadata": {},
   "outputs": [],
   "source": [
    "#normalised author 1 scores\n",
    "norm_auth_1 =[]\n",
    "max1 = max(auth_1)\n",
    "min1 = min(auth_1)\n",
    "\n",
    "for a in range(len(auth_1)):\n",
    "    norm_auth_1.append((auth_1[a])/(max1))\n",
    "print(norm_auth_1)"
   ]
  },
  {
   "cell_type": "code",
   "execution_count": null,
   "id": "236ff576",
   "metadata": {},
   "outputs": [],
   "source": [
    "#normalised author 2 scores\n",
    "norm_auth_2 =[]\n",
    "max1 = max(auth_2)\n",
    "min1 = min(auth_2)\n",
    "\n",
    "for a in range(len(auth_2)):\n",
    "    norm_auth_2.append((auth_2[a])/(max1))\n",
    "print(norm_auth_2)"
   ]
  },
  {
   "cell_type": "code",
   "execution_count": null,
   "id": "dc403417",
   "metadata": {},
   "outputs": [],
   "source": [
    "#normalised author 3 scores\n",
    "norm_auth_3 =[]\n",
    "max1 = max(auth_3)\n",
    "min1 = min(auth_3)\n",
    "\n",
    "for a in range(len(auth_3)):\n",
    "    norm_auth_3.append((auth_3[a])/(max1))\n",
    "print(norm_auth_3)"
   ]
  },
  {
   "cell_type": "code",
   "execution_count": null,
   "id": "116598c3",
   "metadata": {},
   "outputs": [],
   "source": [
    "#Average normalised author scores\n",
    "avg_norm_score = []\n",
    "for i in range(len(auth_1)):\n",
    "    avg_norm_score.append(round((norm_auth_1[i]+norm_auth_2[i]+norm_auth_3[i])/3,2))\n",
    "print(avg_norm_score)"
   ]
  },
  {
   "cell_type": "markdown",
   "id": "d34df8da",
   "metadata": {},
   "source": [
    "# BLEU4 without smoothing"
   ]
  },
  {
   "cell_type": "code",
   "execution_count": null,
   "id": "85251004",
   "metadata": {},
   "outputs": [],
   "source": [
    "bleu4=[]\n",
    "for i in range(len(auth_1)):\n",
    "    bleu4.append(round(sentence_bleu([refs[i]], preds[i]),2))\n",
    "print(bleu4)"
   ]
  },
  {
   "cell_type": "code",
   "execution_count": null,
   "id": "4a0c9d37",
   "metadata": {},
   "outputs": [],
   "source": [
    "norm_bleu4 = []\n",
    "\n",
    "max_b4=max(bleu4)\n",
    "min_b4=min(bleu4)\n",
    "\n",
    "for a in range(len(bleu4)):\n",
    "    norm_bleu4.append(round(((bleu4[a])/(max_b4)),2))\n",
    "print(norm_bleu4)"
   ]
  },
  {
   "cell_type": "code",
   "execution_count": null,
   "id": "e2d6ad40",
   "metadata": {},
   "outputs": [],
   "source": [
    "from scipy.stats import spearmanr\n",
    "# calculate spearman's correlation\n",
    "coef, p = spearmanr(norm_bleu4, avg_norm_score)\n",
    "print('Spearmans correlation coefficient: %.3f' % coef)\n",
    "# interpret the significance\n",
    "alpha = 0.05\n",
    "if p > alpha:\n",
    "\tprint('uncorrelated (fail to reject H0) p=%.3f' % p)\n",
    "else:\n",
    "\tprint('correlated (reject H0) p=%.3f' % p)"
   ]
  },
  {
   "cell_type": "markdown",
   "id": "b4662310",
   "metadata": {},
   "source": [
    "# BLEU4 with smoothing"
   ]
  },
  {
   "cell_type": "markdown",
   "id": "5dc87159",
   "metadata": {},
   "source": [
    "BLEUNorm "
   ]
  },
  {
   "cell_type": "code",
   "execution_count": null,
   "id": "c1a237e8",
   "metadata": {},
   "outputs": [],
   "source": [
    "bleun=[]\n",
    "for i in range(len(auth_1)):\n",
    "    bleun.append(round(sentence_bleu([refs[i]], preds[i],smoothing_function=SmoothingFunction().method2),2))\n",
    "print(bleun)"
   ]
  },
  {
   "cell_type": "code",
   "execution_count": null,
   "id": "180660a5",
   "metadata": {},
   "outputs": [],
   "source": [
    "norm_bleun = []\n",
    "\n",
    "max_bn=max(bleun)\n",
    "min_bn=min(bleun)\n",
    "\n",
    "for a in range(len(bleun)):\n",
    "    norm_bleun.append(round(((bleun[a])/(max_bn)),2))\n",
    "print(norm_bleun)"
   ]
  },
  {
   "cell_type": "code",
   "execution_count": null,
   "id": "a8226dbd",
   "metadata": {},
   "outputs": [],
   "source": [
    "from scipy.stats import spearmanr\n",
    "# calculate spearman's correlation\n",
    "coef, p = spearmanr(norm_bleun, avg_norm_score)\n",
    "print('Spearmans correlation coefficient: %.3f' % coef)\n",
    "# interpret the significance\n",
    "alpha = 0.05\n",
    "if p > alpha:\n",
    "\tprint('uncorrelated (fail to reject H0) p=%.3f' % p)\n",
    "else:\n",
    "\tprint('correlated (reject H0) p=%.3f' % p)"
   ]
  },
  {
   "cell_type": "markdown",
   "id": "a435c423",
   "metadata": {},
   "source": [
    "BLEUCC"
   ]
  },
  {
   "cell_type": "code",
   "execution_count": null,
   "id": "059722db",
   "metadata": {},
   "outputs": [],
   "source": [
    "bleucc=[]\n",
    "for i in range(len(auth_1)):\n",
    "    bleucc.append(round(sentence_bleu([refs[i]], preds[i],smoothing_function=SmoothingFunction().method5),2))\n",
    "print(bleucc)"
   ]
  },
  {
   "cell_type": "code",
   "execution_count": null,
   "id": "cf7e7546",
   "metadata": {},
   "outputs": [],
   "source": [
    "norm_bleucc = []\n",
    "\n",
    "max_bcc=max(bleucc)\n",
    "min_bcc=min(bleucc)\n",
    "\n",
    "for a in range(len(bleucc)):\n",
    "    norm_bleucc.append(round(((bleucc[a])/(max_bcc)),2))\n",
    "print(norm_bleucc)"
   ]
  },
  {
   "cell_type": "code",
   "execution_count": null,
   "id": "21eaeb15",
   "metadata": {},
   "outputs": [],
   "source": [
    "from scipy.stats import spearmanr\n",
    "# calculate spearman's correlation\n",
    "coef, p = spearmanr(norm_bleucc, avg_norm_score)\n",
    "print('Spearmans correlation coefficient: %.3f' % coef)\n",
    "# interpret the significance\n",
    "alpha = 0.05\n",
    "if p > alpha:\n",
    "\tprint('uncorrelated (fail to reject H0) p=%.3f' % p)\n",
    "else:\n",
    "\tprint('correlated (reject H0) p=%.3f' % p)"
   ]
  }
 ],
 "metadata": {
  "kernelspec": {
   "display_name": "Python 3",
   "language": "python",
   "name": "python3"
  },
  "language_info": {
   "codemirror_mode": {
    "name": "ipython",
    "version": 3
   },
   "file_extension": ".py",
   "mimetype": "text/x-python",
   "name": "python",
   "nbconvert_exporter": "python",
   "pygments_lexer": "ipython3",
   "version": "3.8.8"
  }
 },
 "nbformat": 4,
 "nbformat_minor": 5
}
